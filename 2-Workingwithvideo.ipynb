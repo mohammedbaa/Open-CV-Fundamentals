{
 "cells": [
  {
   "cell_type": "markdown",
   "id": "f330ed5b",
   "metadata": {},
   "source": [
    "## Working With Videos"
   ]
  },
  {
   "cell_type": "code",
   "execution_count": 5,
   "id": "4b1c325c",
   "metadata": {},
   "outputs": [],
   "source": [
    "import cv2"
   ]
  },
  {
   "cell_type": "code",
   "execution_count": 6,
   "id": "228c7a20",
   "metadata": {},
   "outputs": [],
   "source": [
    "## Load The Video \n",
    "video=cv2.VideoCapture('video/mountain.mp4')"
   ]
  },
  {
   "cell_type": "code",
   "execution_count": 7,
   "id": "d3503d25",
   "metadata": {},
   "outputs": [],
   "source": [
    "## Disply the Video \n",
    "## ret : whether the video was been read successfully or not \n",
    "while True:\n",
    "    ret,frame=video.read()\n",
    "    if not ret:\n",
    "        break\n",
    "    cv2.imshow(\"Video Frame\",frame)\n",
    "    if cv2.waitKey(1) & 0xFF==ord('q'): ### \n",
    "        break \n",
    "\n",
    "video.release()\n",
    "cv2.destroyAllWindows()\n",
    "\n",
    "\n",
    "## T0 --> F1  FOR THE NEXT FRAME WAIT 1 SEC (cv2.waitKey(1))\n",
    "## 0xFF ACCI CODE WHEN PRESS q Break IT "
   ]
  },
  {
   "cell_type": "code",
   "execution_count": 11,
   "id": "cac7f814",
   "metadata": {},
   "outputs": [],
   "source": [
    "### Write a video \n",
    "fourcc=cv2.VideoWriter_fourcc(*\"mp4v\")\n",
    "width=int(video.get(cv2.CAP_PROP_FRAME_WIDTH))\n",
    "height=int(video.get(cv2.CAP_PROP_FRAME_HEIGHT))\n",
    "fps=30\n",
    "Out=cv2.VideoWriter('video/out.mp4',fourcc,fps,(width,height))\n",
    "\n",
    "while True : \n",
    "   ret,frame=video.read() \n",
    "   if not ret:\n",
    "     break\n",
    "   Out.write(frame)\n",
    "\n",
    "Out.release()\n",
    "video.release()\n",
    "cv2.destroyAllWindows()\n"
   ]
  },
  {
   "cell_type": "code",
   "execution_count": 12,
   "id": "5e44f628",
   "metadata": {},
   "outputs": [],
   "source": [
    "### Write a video \n",
    "fourcc=cv2.VideoWriter_fourcc(*\"mp4v\")\n",
    "width=int(video.get(cv2.CAP_PROP_FRAME_WIDTH))\n",
    "height=int(video.get(cv2.CAP_PROP_FRAME_HEIGHT))\n",
    "fps=30\n",
    "Out=cv2.VideoWriter('video/out_new.mp4',fourcc,fps,(width,height))\n",
    "\n",
    "while True : \n",
    "   ret,frame=video.read() \n",
    "   if not ret:\n",
    "     break\n",
    "   frame=frame+20\n",
    "   Out.write(frame)\n",
    "\n",
    "Out.release()\n",
    "video.release()\n",
    "cv2.destroyAllWindows()\n"
   ]
  }
 ],
 "metadata": {
  "kernelspec": {
   "display_name": "base",
   "language": "python",
   "name": "python3"
  },
  "language_info": {
   "codemirror_mode": {
    "name": "ipython",
    "version": 3
   },
   "file_extension": ".py",
   "mimetype": "text/x-python",
   "name": "python",
   "nbconvert_exporter": "python",
   "pygments_lexer": "ipython3",
   "version": "3.12.4"
  }
 },
 "nbformat": 4,
 "nbformat_minor": 5
}
