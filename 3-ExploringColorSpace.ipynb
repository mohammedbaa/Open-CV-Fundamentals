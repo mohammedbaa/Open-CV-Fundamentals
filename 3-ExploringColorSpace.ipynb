{
 "cells": [
  {
   "cell_type": "markdown",
   "id": "619a3aa6",
   "metadata": {},
   "source": [
    "## Exploring Color Space"
   ]
  },
  {
   "cell_type": "code",
   "execution_count": 1,
   "id": "008d26dd",
   "metadata": {},
   "outputs": [],
   "source": [
    "import cv2"
   ]
  },
  {
   "cell_type": "code",
   "execution_count": 3,
   "id": "d5ec0573",
   "metadata": {},
   "outputs": [],
   "source": [
    "bgr_image=cv2.imread('images/mountain.jpg')"
   ]
  },
  {
   "cell_type": "code",
   "execution_count": 4,
   "id": "180027fa",
   "metadata": {},
   "outputs": [
    {
     "data": {
      "text/plain": [
       "True"
      ]
     },
     "execution_count": 4,
     "metadata": {},
     "output_type": "execute_result"
    }
   ],
   "source": [
    "## Convert to grayscale\n",
    "gray_image=cv2.cvtColor(bgr_image,cv2.COLOR_BGR2GRAY)\n",
    "\n",
    "cv2.imwrite(\"images/MountineGray.jpg\",gray_image)"
   ]
  },
  {
   "cell_type": "code",
   "execution_count": 5,
   "id": "2b1a115b",
   "metadata": {},
   "outputs": [
    {
     "data": {
      "text/plain": [
       "True"
      ]
     },
     "execution_count": 5,
     "metadata": {},
     "output_type": "execute_result"
    }
   ],
   "source": [
    "## Convert to HSV \n",
    "HSV_image=cv2.cvtColor(bgr_image,cv2.COLOR_BGR2HSV)\n",
    "\n",
    "cv2.imwrite(\"images/MountineHSV.jpg\",HSV_image)"
   ]
  },
  {
   "cell_type": "code",
   "execution_count": 6,
   "id": "f5a41234",
   "metadata": {},
   "outputs": [
    {
     "data": {
      "text/plain": [
       "True"
      ]
     },
     "execution_count": 6,
     "metadata": {},
     "output_type": "execute_result"
    }
   ],
   "source": [
    "## Convert to LAB \n",
    "LAB_image=cv2.cvtColor(bgr_image,cv2.COLOR_BGR2LAB)\n",
    "\n",
    "cv2.imwrite(\"images/MountineLAB.jpg\",LAB_image)"
   ]
  },
  {
   "cell_type": "code",
   "execution_count": 8,
   "id": "8bd14deb",
   "metadata": {},
   "outputs": [
    {
     "data": {
      "text/plain": [
       "True"
      ]
     },
     "execution_count": 8,
     "metadata": {},
     "output_type": "execute_result"
    }
   ],
   "source": [
    "## Convert to RGB \n",
    "RGB_image=cv2.cvtColor(bgr_image,cv2.COLOR_BGR2RGB)\n",
    "\n",
    "cv2.imwrite(\"images/MountineRGB.jpg\",RGB_image)"
   ]
  },
  {
   "cell_type": "code",
   "execution_count": null,
   "id": "e8ee324a",
   "metadata": {},
   "outputs": [
    {
     "data": {
      "text/plain": [
       "True"
      ]
     },
     "execution_count": 9,
     "metadata": {},
     "output_type": "execute_result"
    }
   ],
   "source": [
    "## Convert to bgr\n",
    "cv2.imwrite(\"images/Mountine BGR.jpg\",bgr_image)"
   ]
  }
 ],
 "metadata": {
  "kernelspec": {
   "display_name": "base",
   "language": "python",
   "name": "python3"
  },
  "language_info": {
   "codemirror_mode": {
    "name": "ipython",
    "version": 3
   },
   "file_extension": ".py",
   "mimetype": "text/x-python",
   "name": "python",
   "nbconvert_exporter": "python",
   "pygments_lexer": "ipython3",
   "version": "3.12.4"
  }
 },
 "nbformat": 4,
 "nbformat_minor": 5
}
