{
 "cells": [
  {
   "cell_type": "markdown",
   "id": "e8a0e7e9",
   "metadata": {},
   "source": [
    "### Haar Cascading"
   ]
  },
  {
   "cell_type": "code",
   "execution_count": 10,
   "id": "d772c093",
   "metadata": {},
   "outputs": [],
   "source": [
    "import cv2\n",
    "import numpy as np \n",
    "import matplotlib.pyplot as plt "
   ]
  },
  {
   "cell_type": "code",
   "execution_count": 11,
   "id": "1dba07ec",
   "metadata": {},
   "outputs": [
    {
     "data": {
      "text/plain": [
       "'\\n## Face Detection \\ncam=cv2.VideoCapture(0)\\n\\nface_cascade=cv2.CascadeClassifier(cv2.data.haarcascades +\\'haarcascade_frontalface_default.xml\\')\\nface_cascade_eye=cv2.CascadeClassifier(cv2.data.haarcascades +\\'haarcascade_eye.xml\\')\\nface_cascade_mouth=cv2.CascadeClassifier(cv2.data.haarcascades +\\'haarcascade_smile.xml\\')\\n\\nwhile True:\\n    ret,frame=cam.read()\\n\\n    if not ret:\\n        print(\"Falied To Grab frame\")\\n        break \\n\\n    gray=cv2.cvtColor(frame , cv2.COLOR_BGR2RGB)\\n\\n    faces=face_cascade.detectMultiScale(gray,scaleFactor=1.3,minNeighbors=5)\\n\\n    for (x,y,w,h) in faces:\\n        cv2.rectangle(frame , (x,y) ,(x+w,y+h),(255,0,0),2)\\n        cv2.putText(frame,\"Face Detected\" ,(x,y-10) , cv2.FONT_HERSHEY_SIMPLEX,0.9,(0,255,0),2,cv2.LINE_AA)\\n\\n    cv2.imshow(\\'Camera\\' ,frame)\\n\\n    if cv2.waitKey(1) & 0xFF==ord(\\'q\\'):\\n        break \\ncam.release()    \\ncv2.destroyAllWindows()\\n'"
      ]
     },
     "execution_count": 11,
     "metadata": {},
     "output_type": "execute_result"
    }
   ],
   "source": [
    "'''\n",
    "## Face Detection \n",
    "cam=cv2.VideoCapture(0)\n",
    "\n",
    "face_cascade=cv2.CascadeClassifier(cv2.data.haarcascades +'haarcascade_frontalface_default.xml')\n",
    "face_cascade_eye=cv2.CascadeClassifier(cv2.data.haarcascades +'haarcascade_eye.xml')\n",
    "face_cascade_mouth=cv2.CascadeClassifier(cv2.data.haarcascades +'haarcascade_smile.xml')\n",
    "\n",
    "while True:\n",
    "    ret,frame=cam.read()\n",
    "\n",
    "    if not ret:\n",
    "        print(\"Falied To Grab frame\")\n",
    "        break \n",
    "\n",
    "    gray=cv2.cvtColor(frame , cv2.COLOR_BGR2RGB)\n",
    "\n",
    "    faces=face_cascade.detectMultiScale(gray,scaleFactor=1.3,minNeighbors=5)\n",
    "\n",
    "    for (x,y,w,h) in faces:\n",
    "        cv2.rectangle(frame , (x,y) ,(x+w,y+h),(255,0,0),2)\n",
    "        cv2.putText(frame,\"Face Detected\" ,(x,y-10) , cv2.FONT_HERSHEY_SIMPLEX,0.9,(0,255,0),2,cv2.LINE_AA)\n",
    "\n",
    "    cv2.imshow('Camera' ,frame)\n",
    "\n",
    "    if cv2.waitKey(1) & 0xFF==ord('q'):\n",
    "        break \n",
    "cam.release()    \n",
    "cv2.destroyAllWindows()\n",
    "'''"
   ]
  },
  {
   "cell_type": "code",
   "execution_count": 16,
   "id": "b4bd496e",
   "metadata": {},
   "outputs": [],
   "source": [
    "## Face And Mouth\n",
    "cam=cv2.VideoCapture(0)\n",
    "face_cascade=cv2.CascadeClassifier(cv2.data.haarcascades +'haarcascade_frontalface_default.xml')\n",
    "face_cascade_eye=cv2.CascadeClassifier(cv2.data.haarcascades +'haarcascade_eye.xml')\n",
    "face_cascade_mouth=cv2.CascadeClassifier(cv2.data.haarcascades +'haarcascade_smile.xml')\n",
    "\n",
    "\n",
    "while True:\n",
    "    ret,frame=cam.read()\n",
    "\n",
    "    if not ret:\n",
    "        print(\"Falied To Grab frame\")\n",
    "        break \n",
    "\n",
    "    gray=cv2.cvtColor(frame , cv2.COLOR_BGR2RGB)\n",
    "\n",
    "    faces=face_cascade.detectMultiScale(gray,scaleFactor=1.3,minNeighbors=5)\n",
    "\n",
    "    for (x,y,w,h) in faces:\n",
    "        cv2.rectangle(frame , (x,y) ,(x+w,y+h),(255,0,0),2)\n",
    "        roi_gray=gray[y:y+h , x:x+w] \n",
    "        roi_color=frame[y:y+h , x:x+w] \n",
    "\n",
    "        eyes=face_cascade_eye.detectMultiScale(roi_gray,scaleFactor=1.3,minNeighbors=20)\n",
    "        mouth=face_cascade_mouth.detectMultiScale(roi_gray,scaleFactor=1.3,minNeighbors=20)\n",
    "\n",
    "        for (ex,ey,ew,eh) in eyes:\n",
    "            cv2.rectangle(frame , (x+ex,y+ey) ,(x+ex+ew,y+ey+eh),(255,0,0),2)\n",
    "            cv2.putText(frame,\"Eyes\" ,(x+ex,(y+ey)-10) , cv2.FONT_HERSHEY_SIMPLEX,0.9,(0,255,0),2,cv2.LINE_AA)\n",
    "        \n",
    "        for (mx,my,mw,mh) in mouth:\n",
    "            cv2.rectangle(frame , (x+mx,y+my) ,(x+mx+mw,y+my+mh),(255,0,0),2)\n",
    "            cv2.putText(frame,\"Mouth\" ,(x+mx,(y+my)-10) , cv2.FONT_HERSHEY_SIMPLEX,0.9,(0,255,0),2,cv2.LINE_AA)\n",
    "        \n",
    "        cv2.putText(frame,\"Face Detected\" ,(x,y-10) , cv2.FONT_HERSHEY_SIMPLEX,0.9,(0,255,0),2,cv2.LINE_AA)\n",
    "\n",
    "    cv2.imshow('Camera' ,frame)\n",
    "\n",
    "    if cv2.waitKey(1) & 0xFF==ord('q'):\n",
    "        break \n",
    "cam.release()    \n",
    "cv2.destroyAllWindows()"
   ]
  },
  {
   "cell_type": "code",
   "execution_count": null,
   "id": "ad37fcfb",
   "metadata": {},
   "outputs": [],
   "source": []
  }
 ],
 "metadata": {
  "kernelspec": {
   "display_name": "base",
   "language": "python",
   "name": "python3"
  },
  "language_info": {
   "codemirror_mode": {
    "name": "ipython",
    "version": 3
   },
   "file_extension": ".py",
   "mimetype": "text/x-python",
   "name": "python",
   "nbconvert_exporter": "python",
   "pygments_lexer": "ipython3",
   "version": "3.12.4"
  }
 },
 "nbformat": 4,
 "nbformat_minor": 5
}
